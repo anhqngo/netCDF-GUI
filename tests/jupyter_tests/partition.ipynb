{
 "cells": [
  {
   "cell_type": "code",
   "execution_count": 1,
   "metadata": {},
   "outputs": [],
   "source": [
    "import numpy as np\n",
    "import xarray as xr"
   ]
  },
  {
   "cell_type": "code",
   "execution_count": 2,
   "metadata": {},
   "outputs": [],
   "source": [
    "nancy = xr.open_dataset(\"../netCDF_files/nancy_obs4_original.nc\", decode_times=False)"
   ]
  },
  {
   "cell_type": "code",
   "execution_count": 3,
   "metadata": {},
   "outputs": [
    {
     "data": {
      "text/plain": [
       "<xarray.Dataset>\n",
       "Dimensions:           (ObsIndex: 330158, ObsTypes: 45, copy: 166, locdim: 3, nlines: 576, qc_copy: 2)\n",
       "Coordinates:\n",
       "  * copy              (copy) int32 1 2 3 4 5 6 7 ... 160 161 162 163 164 165 166\n",
       "  * qc_copy           (qc_copy) int32 1 2\n",
       "  * ObsTypes          (ObsTypes) int32 1 2 3 4 5 6 7 8 ... 39 40 41 42 43 44 45\n",
       "  * ObsIndex          (ObsIndex) int32 1 2 3 4 5 ... 330155 330156 330157 330158\n",
       "Dimensions without coordinates: locdim, nlines\n",
       "Data variables:\n",
       "    ObsTypesMetaData  (ObsTypes) |S32 ...\n",
       "    QCMetaData        (qc_copy) |S32 ...\n",
       "    CopyMetaData      (copy) |S32 ...\n",
       "    namelist          (nlines) |S256 ...\n",
       "    time              (ObsIndex) float64 ...\n",
       "    obs_type          (ObsIndex) int32 ...\n",
       "    obs_keys          (ObsIndex) int32 ...\n",
       "    observations      (ObsIndex, copy) float64 ...\n",
       "    qc                (ObsIndex, qc_copy) int32 ...\n",
       "    location          (ObsIndex, locdim) float64 ...\n",
       "    which_vert        (ObsIndex) int32 ...\n",
       "Attributes:\n",
       "    creation_date:               YYYY MM DD HH MM SS = 2019 06 11 11 24 34\n",
       "    obs_seq_to_netcdf_source:    $URL: https://svn-dares-dart.cgd.ucar.edu/DA...\n",
       "    obs_seq_to_netcdf_revision:  $Revision: 11994 $\n",
       "    obs_seq_to_netcdf_revdate:   $Date: 2017-10-17 15:40:16 -0600 (Tue, 17 Oc...\n",
       "    obs_seq_file_001:            /glade/scratch/nancy/CAM6_80mem.dart.e.cam_o..."
      ]
     },
     "execution_count": 3,
     "metadata": {},
     "output_type": "execute_result"
    }
   ],
   "source": [
    "nancy"
   ]
  },
  {
   "cell_type": "code",
   "execution_count": 4,
   "metadata": {},
   "outputs": [
    {
     "data": {
      "text/plain": [
       "array([23, 21, 22, ..., 43, 25, 26], dtype=int32)"
      ]
     },
     "execution_count": 4,
     "metadata": {},
     "output_type": "execute_result"
    }
   ],
   "source": [
    "nancy['obs_type'].values"
   ]
  },
  {
   "cell_type": "code",
   "execution_count": 5,
   "metadata": {},
   "outputs": [],
   "source": [
    "OBS_DIC = {\n",
    "    1:\"water_table_depth\" ,\n",
    "    2:\"soil_temperature\",\n",
    "    3:\"soil_moisture\",\n",
    "    4:\"layer_liquid_water\",\n",
    "    5:\"layer_ice\",\n",
    "    6:\"snow_thickness\",\n",
    "    7:\"snow_water\",\n",
    "    8:\"modis_snowcover_frac\",\n",
    "    9:\"modis_leaf_area_index\",\n",
    "    10:\"modis_fpar\",\n",
    "    11:\"biomass\",\n",
    "    12:\"leaf_carbon\",\n",
    "    13:\"leaf_area_index\",\n",
    "    14:\"leaf_nitrogen\",\n",
    "    15:\"tower_air_temperature\",\n",
    "    16:\"tree_ring_npp_flux\",\n",
    "    17:\"tower_soil_temperature\",\n",
    "    18:\"tower_u_wind_component\",\n",
    "    19:\"tower_v_wind_component\",\n",
    "    20:\"tower_global_radiation\",\n",
    "    21:\"tower_net_carbon_flux\",\n",
    "    22:\"tower_latent_heat_flux\",\n",
    "    23:\"tower_sensible_heat_flux\",\n",
    "    24:\"tower_netc_eco_exchange\",\n",
    "    25:\"tower_gpp_flux\",\n",
    "    26:\"tower_er_flux\",\n",
    "    27:\"soil_respiration_flux\",\n",
    "    28:\"surface_albedo\",\n",
    "    29:\"cosmos_neutron_intensity\"\n",
    "}"
   ]
  },
  {
   "cell_type": "code",
   "execution_count": 6,
   "metadata": {},
   "outputs": [
    {
     "name": "stdout",
     "output_type": "stream",
     "text": [
      "[4, 6, 7, 10, 11, 17, 18, 19, 21, 22, 23, 25, 26, 27, 28]\n"
     ]
    }
   ],
   "source": [
    "AVAILABLE_TYPES = []\n",
    "for i in range(1,30,1):\n",
    "    if i in nancy['obs_type'].values:\n",
    "        AVAILABLE_TYPES.append(i)\n",
    "print(AVAILABLE_TYPES)"
   ]
  },
  {
   "cell_type": "code",
   "execution_count": 37,
   "metadata": {},
   "outputs": [],
   "source": [
    "new = xr.open_dataset(\"../netCDF_files/template.nc\", decode_times=False)"
   ]
  },
  {
   "cell_type": "code",
   "execution_count": 38,
   "metadata": {},
   "outputs": [
    {
     "data": {
      "text/plain": [
       "<xarray.Dataset>\n",
       "Dimensions:         (obs: 330158, qc_copy: 2)\n",
       "Coordinates:\n",
       "    time            (obs) float64 ...\n",
       "    lon             (obs) float64 ...\n",
       "    lat             (obs) float64 ...\n",
       "    vertical        (obs) float64 ...\n",
       "  * qc_copy         (qc_copy) int32 -2147483647 -2147483647\n",
       "Dimensions without coordinates: obs\n",
       "Data variables:\n",
       "    vertical_type   (obs) float64 ...\n",
       "    observation     (obs) float64 ...\n",
       "    error_variance  (obs) float64 ...\n",
       "    qc              (obs, qc_copy) int32 ...\n",
       "    obs_key         (obs) int32 ...\n",
       "Attributes:\n",
       "    featureType:  point\n",
       "    title:        Restructured netCDF file from Nancy\n",
       "    author:       Jason Ngo, SIParCS Intern\n",
       "    source:       Nancy Collins, NCAR|UCAR\n",
       "    conventions:  CF-1.7"
      ]
     },
     "execution_count": 38,
     "metadata": {},
     "output_type": "execute_result"
    }
   ],
   "source": [
    "new"
   ]
  },
  {
   "cell_type": "code",
   "execution_count": 9,
   "metadata": {},
   "outputs": [],
   "source": [
    "searchval = 4\n",
    "index_list = np.where(nancy['obs_type'].values == searchval)[0]"
   ]
  },
  {
   "cell_type": "code",
   "execution_count": 42,
   "metadata": {},
   "outputs": [],
   "source": [
    "for searchval in AVAILABLE_TYPES:\n",
    "    new = xr.open_dataset(\"../netCDF_files/template.nc\", decode_times=False)\n",
    "    index_list = np.where(nancy['obs_type'].values == searchval)[0] # index of observations of the same type\n",
    "    j = 0\n",
    "    location_matrix = nancy['location'].values.T\n",
    "    \n",
    "    for i in index_list:    \n",
    "        new['lat'].values[i] = location_matrix[1][i]\n",
    "    new = new.where( (np.isnan(new.coords['lat']) == False), drop=True)\n",
    "    \n",
    "    j = 0\n",
    "    for i in index_list:\n",
    "        new['observation'].values[j] = nancy['observations'].values.T[0][i]\n",
    "        new['lon'].values[j] = location_matrix[0][i]\n",
    "        new['vertical'].values[j] = location_matrix[2][i]\n",
    "        new['time'].values[j] = nancy['time'].values[i]\n",
    "        new['vertical_type'].values[j] = nancy['which_vert'].values[i]\n",
    "        j+=1\n",
    "    new.to_netcdf(\"{}.nc\".format(OBS_DIC[searchval]))"
   ]
  },
  {
   "cell_type": "code",
   "execution_count": 40,
   "metadata": {},
   "outputs": [
    {
     "data": {
      "text/plain": [
       "[4, 6, 7, 10, 11, 17, 18, 19, 21, 22, 23, 25, 26, 27, 28]"
      ]
     },
     "execution_count": 40,
     "metadata": {},
     "output_type": "execute_result"
    }
   ],
   "source": [
    "AVAILABLE_TYPES"
   ]
  },
  {
   "cell_type": "code",
   "execution_count": 19,
   "metadata": {},
   "outputs": [
    {
     "ename": "AttributeError",
     "evalue": "'numpy.ndarray' object has no attribute 'drop_nan'",
     "output_type": "error",
     "traceback": [
      "\u001b[0;31m---------------------------------------------------------------------------\u001b[0m",
      "\u001b[0;31mAttributeError\u001b[0m                            Traceback (most recent call last)",
      "\u001b[0;32m<ipython-input-19-30fc6b1cb876>\u001b[0m in \u001b[0;36m<module>\u001b[0;34m\u001b[0m\n\u001b[0;32m----> 1\u001b[0;31m \u001b[0mtest_np\u001b[0m\u001b[0;34m.\u001b[0m\u001b[0mdrop_nan\u001b[0m\u001b[0;34m\u001b[0m\u001b[0;34m\u001b[0m\u001b[0m\n\u001b[0m",
      "\u001b[0;31mAttributeError\u001b[0m: 'numpy.ndarray' object has no attribute 'drop_nan'"
     ]
    }
   ],
   "source": [
    "test_np.drop_nan"
   ]
  },
  {
   "cell_type": "code",
   "execution_count": 24,
   "metadata": {},
   "outputs": [],
   "source": [
    "test_np = test_np[np.logical_not(np.isnan(test_np))]"
   ]
  },
  {
   "cell_type": "code",
   "execution_count": 32,
   "metadata": {},
   "outputs": [],
   "source": [
    "new = new.where( (np.isnan(new.coords['lat']) == False), drop=True)"
   ]
  },
  {
   "cell_type": "code",
   "execution_count": 33,
   "metadata": {},
   "outputs": [
    {
     "data": {
      "text/plain": [
       "<xarray.Dataset>\n",
       "Dimensions:         (obs: 215394, qc_copy: 2)\n",
       "Coordinates:\n",
       "    time            (obs) float64 1.496e+05 1.496e+05 ... 1.496e+05 1.496e+05\n",
       "    lon             (obs) float64 327.9 327.9 327.9 184.9 ... 227.6 227.6 227.6\n",
       "    lat             (obs) float64 23.44 23.44 23.44 -57.19 ... 54.4 54.4 54.4\n",
       "    vertical        (obs) float64 2.874e+04 2.874e+04 2.874e+04 ... 0.0 0.0 0.0\n",
       "  * qc_copy         (qc_copy) int32 -2147483647 -2147483647\n",
       "Dimensions without coordinates: obs\n",
       "Data variables:\n",
       "    vertical_type   (obs) float64 2.0 2.0 2.0 3.0 3.0 ... -1.0 -1.0 -1.0 -1.0\n",
       "    observation     (obs) float64 239.2 9.4 2.7 264.3 ... 9.7 284.4 3.1 -2.6\n",
       "    error_variance  (obs) float64 nan nan nan nan nan ... nan nan nan nan nan\n",
       "    qc              (obs, qc_copy) float64 -2.147e+09 -2.147e+09 ... -2.147e+09\n",
       "    obs_key         (obs) float64 -2.147e+09 -2.147e+09 ... -2.147e+09\n",
       "Attributes:\n",
       "    featureType:  point\n",
       "    title:        Restructured netCDF file from Nancy\n",
       "    author:       Jason Ngo, SIParCS Intern\n",
       "    source:       Nancy Collins, NCAR|UCAR\n",
       "    conventions:  CF-1.7"
      ]
     },
     "execution_count": 33,
     "metadata": {},
     "output_type": "execute_result"
    }
   ],
   "source": [
    "new"
   ]
  },
  {
   "cell_type": "code",
   "execution_count": null,
   "metadata": {},
   "outputs": [],
   "source": [
    "1+1"
   ]
  },
  {
   "cell_type": "code",
   "execution_count": null,
   "metadata": {},
   "outputs": [],
   "source": []
  }
 ],
 "metadata": {
  "kernelspec": {
   "display_name": "Python 3",
   "language": "python",
   "name": "python3"
  },
  "language_info": {
   "codemirror_mode": {
    "name": "ipython",
    "version": 3
   },
   "file_extension": ".py",
   "mimetype": "text/x-python",
   "name": "python",
   "nbconvert_exporter": "python",
   "pygments_lexer": "ipython3",
   "version": "3.7.3"
  }
 },
 "nbformat": 4,
 "nbformat_minor": 2
}
