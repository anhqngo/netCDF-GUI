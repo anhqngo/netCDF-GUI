{
 "cells": [
  {
   "cell_type": "code",
   "execution_count": 1,
   "metadata": {},
   "outputs": [],
   "source": [
    "# NetCDF packages\n",
    "import netCDF4\n",
    "from netCDF4 import Dataset\n",
    "import xarray\n",
    "import xarray as xr\n",
    "\n",
    "# Matplotlib\n",
    "import matplotlib.pyplot as plt\n",
    "from mpl_toolkits.mplot3d import Axes3D\n",
    "from matplotlib.collections import LineCollection, PolyCollection\n",
    "%matplotlib inline\n",
    "\n",
    "# Cartopy\n",
    "import cartopy.feature\n",
    "from cartopy.mpl.patch import geos_to_path\n",
    "import cartopy.crs as ccrs\n",
    "\n",
    "# MetPy packages\n",
    "import metpy.calc as mpcalc\n",
    "from metpy.testing import get_test_data\n",
    "from metpy.units import units\n",
    "\n",
    "# Scientific\n",
    "import numpy as np\n",
    "import pandas as pd\n",
    "\n",
    "import plotly.plotly as py\n",
    "import plotly.tools as tls\n",
    "\n",
    "\n",
    "import itertools"
   ]
  },
  {
   "cell_type": "code",
   "execution_count": 3,
   "metadata": {},
   "outputs": [
    {
     "data": {
      "text/plain": [
       "<xarray.Dataset>\n",
       "Dimensions:         (copy: 3, obs: 232323, qc_copy: 1)\n",
       "Coordinates:\n",
       "    time            (obs) datetime64[ns] ...\n",
       "    lon             (obs) float64 ...\n",
       "    lat             (obs) float64 ...\n",
       "    vertical        (obs) float64 ...\n",
       "  * qc_copy         (qc_copy) int32 1\n",
       "Dimensions without coordinates: copy, obs\n",
       "Data variables:\n",
       "    observations    (obs, copy) float64 ...\n",
       "    error_variance  (obs) float64 ...\n",
       "    qc              (obs, qc_copy) int32 ...\n",
       "    obs_key         (obs) int32 ...\n",
       "    list_of_groups  (obs) int32 ...\n",
       "Attributes:\n",
       "    featureType:    point\n",
       "    title:          Restructured netCDF file from Nancy\n",
       "    author:         Jason Ngo, SIParCS Intern\n",
       "    source:         Nancy Collins, NCAR|UCAR\n",
       "    conventions:    CF-1.7\n",
       "    creation_date:  YYYY MM DD HH MM SS = 2019 06 30 16 05 57"
      ]
     },
     "execution_count": 3,
     "metadata": {},
     "output_type": "execute_result"
    }
   ],
   "source": [
    "ds = xr.open_dataset('../datasets/proposed_standard/salinity_4.nc',decode_times=True)\n",
    "ds"
   ]
  },
  {
   "cell_type": "code",
   "execution_count": 4,
   "metadata": {},
   "outputs": [
    {
     "data": {
      "text/plain": [
       "array(['2001-07-01T12:33:24.000000000', '2001-07-01T12:33:32.000000000',\n",
       "       '2001-07-01T12:33:33.000000000', ...,\n",
       "       '2001-07-08T11:53:09.000016000', '2001-07-08T11:53:11.000005000',\n",
       "       '2001-07-08T11:53:16.000018000'], dtype='datetime64[ns]')"
      ]
     },
     "execution_count": 4,
     "metadata": {},
     "output_type": "execute_result"
    }
   ],
   "source": [
    "time = ds['time'].values\n",
    "time"
   ]
  },
  {
   "cell_type": "code",
   "execution_count": 5,
   "metadata": {},
   "outputs": [
    {
     "data": {
      "text/plain": [
       "array(['2001-07-01T12:33:24Z', '2001-07-01T12:33:32Z',\n",
       "       '2001-07-01T12:33:33Z', ..., '2001-07-08T11:53:09Z',\n",
       "       '2001-07-08T11:53:11Z', '2001-07-08T11:53:16Z'], dtype='<U38')"
      ]
     },
     "execution_count": 5,
     "metadata": {},
     "output_type": "execute_result"
    }
   ],
   "source": [
    "np.datetime_as_string(time,timezone='UTC',unit='s')"
   ]
  },
  {
   "cell_type": "code",
   "execution_count": 11,
   "metadata": {},
   "outputs": [
    {
     "data": {
      "text/plain": [
       "'2001-07-08T11:53:16Z'"
      ]
     },
     "execution_count": 11,
     "metadata": {},
     "output_type": "execute_result"
    }
   ],
   "source": [
    "np.datetime_as_string(max(time), unit='s', timezone='UTC')"
   ]
  },
  {
   "cell_type": "code",
   "execution_count": 16,
   "metadata": {},
   "outputs": [
    {
     "data": {
      "text/plain": [
       "<xarray.Dataset>\n",
       "Dimensions:         (copy: 3, obs: 165944, qc_copy: 1)\n",
       "Coordinates:\n",
       "    time            (obs) datetime64[ns] 2001-07-03T12:33:32 ... 2001-07-08T11:53:16.000018\n",
       "    lon             (obs) float64 139.9 139.1 139.5 138.4 ... 97.28 97.66 97.66\n",
       "    lat             (obs) float64 75.81 75.81 75.81 75.81 ... 3.816 3.816 3.533\n",
       "    vertical        (obs) float64 2.5e-05 2.5e-05 2.5e-05 ... 2.5e-05 2.5e-05\n",
       "  * qc_copy         (qc_copy) int32 1\n",
       "Dimensions without coordinates: copy, obs\n",
       "Data variables:\n",
       "    observations    (obs, copy) float64 15.16 15.16 0.0001282 ... 7.508 0.000156\n",
       "    error_variance  (obs) float64 0.0001282 0.0001506 ... 0.0001173 0.000156\n",
       "    qc              (obs, qc_copy) float64 1.0 1.0 1.0 1.0 ... 1.0 1.0 1.0 1.0\n",
       "    obs_key         (obs) float64 2.0 3.0 4.0 ... 3.319e+04 3.319e+04 3.319e+04\n",
       "    list_of_groups  (obs) object [2] [-2147483647] [-2147483647] ... [2] [2] [2]\n",
       "Attributes:\n",
       "    featureType:    point\n",
       "    title:          Restructured netCDF file from Nancy\n",
       "    author:         Jason Ngo, SIParCS Intern\n",
       "    source:         Nancy Collins, NCAR|UCAR\n",
       "    conventions:    CF-1.7\n",
       "    creation_date:  YYYY MM DD HH MM SS = 2019 06 30 16 05 57"
      ]
     },
     "execution_count": 16,
     "metadata": {},
     "output_type": "execute_result"
    }
   ],
   "source": [
    "temp = ds.where(b < ds['time'], drop=True)\n",
    "temp"
   ]
  },
  {
   "cell_type": "code",
   "execution_count": 9,
   "metadata": {},
   "outputs": [
    {
     "data": {
      "text/plain": [
       "numpy.datetime64('2001-07-08T11:53:16.000018000')"
      ]
     },
     "execution_count": 9,
     "metadata": {},
     "output_type": "execute_result"
    }
   ],
   "source": [
    "max(ds['time'].values)"
   ]
  },
  {
   "cell_type": "code",
   "execution_count": 15,
   "metadata": {},
   "outputs": [
    {
     "name": "stderr",
     "output_type": "stream",
     "text": [
      "/anaconda3/lib/python3.7/site-packages/ipykernel_launcher.py:2: DeprecationWarning:\n",
      "\n",
      "parsing timezone aware datetimes is deprecated; this will raise an error in the future\n",
      "\n"
     ]
    },
    {
     "data": {
      "text/plain": [
       "numpy.datetime64('2001-07-03T12:33:24')"
      ]
     },
     "execution_count": 15,
     "metadata": {},
     "output_type": "execute_result"
    }
   ],
   "source": [
    "a = '2001-07-03T12:33:24Z'\n",
    "b = np.datetime64(a)\n",
    "b"
   ]
  },
  {
   "cell_type": "code",
   "execution_count": 12,
   "metadata": {},
   "outputs": [
    {
     "data": {
      "text/plain": [
       "'1.16.4'"
      ]
     },
     "execution_count": 12,
     "metadata": {},
     "output_type": "execute_result"
    }
   ],
   "source": [
    "np.__version__"
   ]
  },
  {
   "cell_type": "code",
   "execution_count": null,
   "metadata": {},
   "outputs": [],
   "source": []
  }
 ],
 "metadata": {
  "kernelspec": {
   "display_name": "Python 3",
   "language": "python",
   "name": "python3"
  },
  "language_info": {
   "codemirror_mode": {
    "name": "ipython",
    "version": 3
   },
   "file_extension": ".py",
   "mimetype": "text/x-python",
   "name": "python",
   "nbconvert_exporter": "python",
   "pygments_lexer": "ipython3",
   "version": "3.7.3"
  }
 },
 "nbformat": 4,
 "nbformat_minor": 2
}
